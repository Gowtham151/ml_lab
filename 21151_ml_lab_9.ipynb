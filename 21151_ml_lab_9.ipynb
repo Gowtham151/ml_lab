{
 "cells": [
  {
   "cell_type": "code",
   "execution_count": 3,
   "metadata": {
    "executionInfo": {
     "elapsed": 4714,
     "status": "ok",
     "timestamp": 1701452414259,
     "user": {
      "displayName": "Hemanth Babu",
      "userId": "04889620377749764274"
     },
     "user_tz": -330
    },
    "id": "d4eZyHSqtO75"
   },
   "outputs": [],
   "source": [
    "import pandas as pd\n",
    "import matplotlib.pyplot as plt\n",
    "from sklearn.cluster import KMeans\n",
    "from sklearn.preprocessing import StandardScaler\n",
    "import warnings\n",
    "\n",
    "warnings.filterwarnings(\"ignore\")\n",
    "warnings.filterwarnings(\"ignore\", category=DeprecationWarning)"
   ]
  },
  {
   "cell_type": "code",
   "execution_count": 4,
   "metadata": {
    "colab": {
     "base_uri": "https://localhost:8080/",
     "height": 443
    },
    "executionInfo": {
     "elapsed": 17095,
     "status": "ok",
     "timestamp": 1701452498714,
     "user": {
      "displayName": "Hemanth Babu",
      "userId": "04889620377749764274"
     },
     "user_tz": -330
    },
    "id": "RqTDWZ1-drlB",
    "outputId": "71d280d9-36bd-4813-cee2-d9f223b9c3db"
   },
   "outputs": [
    {
     "data": {
      "text/html": [
       "<div>\n",
       "<style scoped>\n",
       "    .dataframe tbody tr th:only-of-type {\n",
       "        vertical-align: middle;\n",
       "    }\n",
       "\n",
       "    .dataframe tbody tr th {\n",
       "        vertical-align: top;\n",
       "    }\n",
       "\n",
       "    .dataframe thead th {\n",
       "        text-align: right;\n",
       "    }\n",
       "</style>\n",
       "<table border=\"1\" class=\"dataframe\">\n",
       "  <thead>\n",
       "    <tr style=\"text-align: right;\">\n",
       "      <th></th>\n",
       "      <th>Label</th>\n",
       "      <th>Theta0_Lambda1_LocalEnergy</th>\n",
       "      <th>Theta0_Lambda1_MeanAmplitude</th>\n",
       "      <th>Theta0_Lambda0_LocalEnergy</th>\n",
       "      <th>Theta0_Lambda0_MeanAmplitude</th>\n",
       "      <th>Theta0_Lambda0_LocalEnergy.1</th>\n",
       "      <th>Theta0_Lambda0_MeanAmplitude.1</th>\n",
       "      <th>Theta0_Lambda0_LocalEnergy.2</th>\n",
       "      <th>Theta0_Lambda0_MeanAmplitude.2</th>\n",
       "      <th>Theta0_Lambda0_LocalEnergy.3</th>\n",
       "      <th>...</th>\n",
       "      <th>Theta0_Lambda1_LocalEnergy.3</th>\n",
       "      <th>Theta0_Lambda1_MeanAmplitude.3</th>\n",
       "      <th>Theta0_Lambda0_LocalEnergy.12</th>\n",
       "      <th>Theta0_Lambda0_MeanAmplitude.12</th>\n",
       "      <th>Theta0_Lambda0_LocalEnergy.13</th>\n",
       "      <th>Theta0_Lambda0_MeanAmplitude.13</th>\n",
       "      <th>Theta0_Lambda0_LocalEnergy.14</th>\n",
       "      <th>Theta0_Lambda0_MeanAmplitude.14</th>\n",
       "      <th>Theta0_Lambda0_LocalEnergy.15</th>\n",
       "      <th>Theta0_Lambda0_MeanAmplitude.15</th>\n",
       "    </tr>\n",
       "  </thead>\n",
       "  <tbody>\n",
       "    <tr>\n",
       "      <th>0</th>\n",
       "      <td>3453</td>\n",
       "      <td>39752</td>\n",
       "      <td>24995</td>\n",
       "      <td>28698</td>\n",
       "      <td>22220</td>\n",
       "      <td>47492</td>\n",
       "      <td>39752</td>\n",
       "      <td>24995</td>\n",
       "      <td>28698</td>\n",
       "      <td>22220</td>\n",
       "      <td>...</td>\n",
       "      <td>3504689</td>\n",
       "      <td>3487904</td>\n",
       "      <td>3468278</td>\n",
       "      <td>1963883</td>\n",
       "      <td>2072174</td>\n",
       "      <td>3508397</td>\n",
       "      <td>3491984</td>\n",
       "      <td>3469319</td>\n",
       "      <td>1962913</td>\n",
       "      <td>2071265</td>\n",
       "    </tr>\n",
       "    <tr>\n",
       "      <th>1</th>\n",
       "      <td>3453</td>\n",
       "      <td>63716</td>\n",
       "      <td>40885</td>\n",
       "      <td>44338</td>\n",
       "      <td>34134</td>\n",
       "      <td>80364</td>\n",
       "      <td>63716</td>\n",
       "      <td>40885</td>\n",
       "      <td>44338</td>\n",
       "      <td>34134</td>\n",
       "      <td>...</td>\n",
       "      <td>4916428</td>\n",
       "      <td>4888272</td>\n",
       "      <td>4851933</td>\n",
       "      <td>2748641</td>\n",
       "      <td>2900020</td>\n",
       "      <td>4916784</td>\n",
       "      <td>4888045</td>\n",
       "      <td>4851383</td>\n",
       "      <td>2748266</td>\n",
       "      <td>2899613</td>\n",
       "    </tr>\n",
       "    <tr>\n",
       "      <th>2</th>\n",
       "      <td>3453</td>\n",
       "      <td>74632</td>\n",
       "      <td>62911</td>\n",
       "      <td>69469</td>\n",
       "      <td>55907</td>\n",
       "      <td>73178</td>\n",
       "      <td>74632</td>\n",
       "      <td>62911</td>\n",
       "      <td>69469</td>\n",
       "      <td>55907</td>\n",
       "      <td>...</td>\n",
       "      <td>5481859</td>\n",
       "      <td>5456359</td>\n",
       "      <td>5412212</td>\n",
       "      <td>3056522</td>\n",
       "      <td>3225966</td>\n",
       "      <td>5486808</td>\n",
       "      <td>5462044</td>\n",
       "      <td>5413867</td>\n",
       "      <td>3054577</td>\n",
       "      <td>3224056</td>\n",
       "    </tr>\n",
       "  </tbody>\n",
       "</table>\n",
       "<p>3 rows × 51 columns</p>\n",
       "</div>"
      ],
      "text/plain": [
       "   Label  Theta0_Lambda1_LocalEnergy  Theta0_Lambda1_MeanAmplitude  \\\n",
       "0   3453                       39752                         24995   \n",
       "1   3453                       63716                         40885   \n",
       "2   3453                       74632                         62911   \n",
       "\n",
       "   Theta0_Lambda0_LocalEnergy  Theta0_Lambda0_MeanAmplitude  \\\n",
       "0                       28698                         22220   \n",
       "1                       44338                         34134   \n",
       "2                       69469                         55907   \n",
       "\n",
       "   Theta0_Lambda0_LocalEnergy.1  Theta0_Lambda0_MeanAmplitude.1  \\\n",
       "0                         47492                           39752   \n",
       "1                         80364                           63716   \n",
       "2                         73178                           74632   \n",
       "\n",
       "   Theta0_Lambda0_LocalEnergy.2  Theta0_Lambda0_MeanAmplitude.2  \\\n",
       "0                         24995                           28698   \n",
       "1                         40885                           44338   \n",
       "2                         62911                           69469   \n",
       "\n",
       "   Theta0_Lambda0_LocalEnergy.3  ...  Theta0_Lambda1_LocalEnergy.3  \\\n",
       "0                         22220  ...                       3504689   \n",
       "1                         34134  ...                       4916428   \n",
       "2                         55907  ...                       5481859   \n",
       "\n",
       "   Theta0_Lambda1_MeanAmplitude.3  Theta0_Lambda0_LocalEnergy.12  \\\n",
       "0                         3487904                        3468278   \n",
       "1                         4888272                        4851933   \n",
       "2                         5456359                        5412212   \n",
       "\n",
       "   Theta0_Lambda0_MeanAmplitude.12  Theta0_Lambda0_LocalEnergy.13  \\\n",
       "0                          1963883                        2072174   \n",
       "1                          2748641                        2900020   \n",
       "2                          3056522                        3225966   \n",
       "\n",
       "   Theta0_Lambda0_MeanAmplitude.13  Theta0_Lambda0_LocalEnergy.14  \\\n",
       "0                          3508397                        3491984   \n",
       "1                          4916784                        4888045   \n",
       "2                          5486808                        5462044   \n",
       "\n",
       "   Theta0_Lambda0_MeanAmplitude.14  Theta0_Lambda0_LocalEnergy.15  \\\n",
       "0                          3469319                        1962913   \n",
       "1                          4851383                        2748266   \n",
       "2                          5413867                        3054577   \n",
       "\n",
       "   Theta0_Lambda0_MeanAmplitude.15  \n",
       "0                          2071265  \n",
       "1                          2899613  \n",
       "2                          3224056  \n",
       "\n",
       "[3 rows x 51 columns]"
      ]
     },
     "execution_count": 4,
     "metadata": {},
     "output_type": "execute_result"
    }
   ],
   "source": [
    "df = pd.read_csv(\"Malayalam_Char_Gabor.csv\")\n",
    "df.drop(\"ImageName\",axis=1,inplace=True)\n",
    "df.head(3)"
   ]
  },
  {
   "cell_type": "markdown",
   "metadata": {
    "id": "55TOs61tgVPN"
   },
   "source": [
    "# **A1**"
   ]
  },
  {
   "cell_type": "code",
   "execution_count": 5,
   "metadata": {
    "colab": {
     "base_uri": "https://localhost:8080/"
    },
    "executionInfo": {
     "elapsed": 3240,
     "status": "ok",
     "timestamp": 1701452513112,
     "user": {
      "displayName": "Hemanth Babu",
      "userId": "04889620377749764274"
     },
     "user_tz": -330
    },
    "id": "u8FfnQMbdgKD",
    "outputId": "a8d1eb39-443f-469b-84c7-599b4b54f90b"
   },
   "outputs": [
    {
     "name": "stdout",
     "output_type": "stream",
     "text": [
      "K=3 Inertia: 1.1332399954038896e+17\n",
      "K=5 Inertia: 4.14442991924959e+16\n"
     ]
    }
   ],
   "source": [
    "# Identifying non-numeric columns\n",
    "x=df.drop(\"Label\",axis=1)\n",
    "y=df[\"Label\"]\n",
    "\n",
    "\n",
    "# K-means clustering with k = 3\n",
    "kmeans3 = KMeans(n_clusters=3)\n",
    "kmeans3.fit(x)\n",
    "\n",
    "# K-means clustering with k = 5\n",
    "kmeans5 = KMeans(n_clusters=5)\n",
    "kmeans5.fit(x)\n",
    "\n",
    "# Checking inertia or silhouette scores for evaluating the clustering\n",
    "print(\"K=3 Inertia:\", kmeans3.inertia_)\n",
    "print(\"K=5 Inertia:\", kmeans5.inertia_)"
   ]
  },
  {
   "cell_type": "markdown",
   "metadata": {
    "id": "kdeQe_shgS8e"
   },
   "source": [
    "# **A2**"
   ]
  },
  {
   "cell_type": "code",
   "execution_count": 6,
   "metadata": {
    "colab": {
     "base_uri": "https://localhost:8080/",
     "height": 1000
    },
    "executionInfo": {
     "elapsed": 58560,
     "status": "ok",
     "timestamp": 1701452595582,
     "user": {
      "displayName": "Hemanth Babu",
      "userId": "04889620377749764274"
     },
     "user_tz": -330
    },
    "id": "uXvztwB6eVN3",
    "outputId": "9a1b03b3-9173-4e8b-dc4d-75d149d5044e"
   },
   "outputs": [
    {
     "data": {
      "image/png": "[encoded data removed]",
      "text/plain": [
       "<Figure size 800x600 with 1 Axes>"
      ]
     },
     "metadata": {},
     "output_type": "display_data"
    }
   ],
   "source": [
    "# Determining the ideal k value using the Elbow Method\n",
    "distortions = []\n",
    "K = range(1, 31)\n",
    "for k in K:\n",
    "    kmeans = KMeans(n_clusters=k)\n",
    "    kmeans.fit(x)\n",
    "    distortions.append(kmeans.inertia_)\n",
    "\n",
    "# Plotting the Elbow graph\n",
    "plt.figure(figsize=(8, 6))\n",
    "plt.plot(K, distortions, 'bx-')\n",
    "plt.xlabel('k')\n",
    "plt.ylabel('Average Distortion')\n",
    "plt.title('Elbow Method For Optimal k')\n",
    "plt.show()"
   ]
  },
  {
   "cell_type": "markdown",
   "metadata": {
    "id": "jMT2m6YSgQ8h"
   },
   "source": [
    "# **A3**"
   ]
  },
  {
   "cell_type": "code",
   "execution_count": 7,
   "metadata": {
    "colab": {
     "base_uri": "https://localhost:8080/",
     "height": 321
    },
    "executionInfo": {
     "elapsed": 15346,
     "status": "ok",
     "timestamp": 1701452800773,
     "user": {
      "displayName": "Hemanth Babu",
      "userId": "04889620377749764274"
     },
     "user_tz": -330
    },
    "id": "QMM9hrznepbI",
    "outputId": "a6ba5051-a16a-473a-e6ff-0878165aa4ac"
   },
   "outputs": [
    {
     "data": {
      "image/png": "[encoded data removed]",
      "text/plain": [
       "<Figure size 3000x700 with 1 Axes>"
      ]
     },
     "metadata": {},
     "output_type": "display_data"
    }
   ],
   "source": [
    "import scipy.cluster.hierarchy as sch\n",
    "\n",
    "# Hierarchical clustering using Agglomerative Clustering\n",
    "plt.figure(figsize=(30, 7))\n",
    "dendrogram = sch.dendrogram(sch.linkage(x, method='ward'))\n",
    "plt.title('Dendrogram')\n",
    "plt.xlabel('Samples')\n",
    "plt.ylabel('Distance')\n",
    "plt.show()"
   ]
  },
  {
   "cell_type": "markdown",
   "metadata": {
    "id": "Hok8_GFygM9w"
   },
   "source": [
    "# **A4**"
   ]
  },
  {
   "cell_type": "code",
   "execution_count": 15,
   "metadata": {
    "executionInfo": {
     "elapsed": 11066,
     "status": "ok",
     "timestamp": 1701452853533,
     "user": {
      "displayName": "Hemanth Babu",
      "userId": "04889620377749764274"
     },
     "user_tz": -330
    },
    "id": "OsTBSlFZfVpQ"
   },
   "outputs": [],
   "source": [
    "from sklearn.feature_selection import SequentialFeatureSelector\n",
    "from sklearn.linear_model import LinearRegression\n",
    "from sklearn.preprocessing import StandardScaler\n",
    "# Separating features and target\n",
    "\n",
    "X = df.drop(columns=['Label'])  # Features\n",
    "y = df['Label']  # Target\n",
    "\n",
    "# Sequential Feature Selector\n",
    "selector = SequentialFeatureSelector(LinearRegression(), n_features_to_select=1)\n",
    "selector.fit(x, y)\n",
    "\n",
    "# Getting selected features\n",
    "selected_features = x.columns[selector.support_]\n"
   ]
  },
  {
   "cell_type": "code",
   "execution_count": 14,
   "metadata": {
    "colab": {
     "base_uri": "https://localhost:8080/"
    },
    "executionInfo": {
     "elapsed": 678,
     "status": "ok",
     "timestamp": 1701452854203,
     "user": {
      "displayName": "Hemanth Babu",
      "userId": "04889620377749764274"
     },
     "user_tz": -330
    },
    "id": "t84R27-SfZiJ",
    "outputId": "291da590-b382-4474-d366-df868d6af187"
   },
   "outputs": [
    {
     "name": "stdout",
     "output_type": "stream",
     "text": [
      "Number of features needed for 95% variance in PCA: 1\n"
     ]
    }
   ],
   "source": [
    "from sklearn.decomposition import PCA\n",
    "\n",
    "# Performing PCA on scaled data\n",
    "pca = PCA(n_components=0.95)  # Captures 95% of variance\n",
    "x_pca = pca.fit_transform(x)\n",
    "\n",
    "# Getting the no.of components/features needed for 95% variance\n",
    "num_features_for_95_variance = pca.n_components_\n",
    "\n",
    "# Printting the no.of components/features needed for 95% variance\n",
    "print(\"Number of features needed for 95% variance in PCA:\", num_features_for_95_variance)"
   ]
  },
  {
   "cell_type": "markdown",
   "metadata": {
    "id": "H3nOoZ5GgDIg"
   },
   "source": [
    "# **A5**"
   ]
  },
  {
   "cell_type": "code",
   "execution_count": 12,
   "metadata": {
    "colab": {
     "base_uri": "https://localhost:8080/"
    },
    "executionInfo": {
     "elapsed": 725,
     "status": "ok",
     "timestamp": 1701452861365,
     "user": {
      "displayName": "Hemanth Babu",
      "userId": "04889620377749764274"
     },
     "user_tz": -330
    },
    "id": "OezpsD4VfiT2",
    "outputId": "851b0cc5-62e9-4022-e8a8-1f98ca518ba1"
   },
   "outputs": [
    {
     "name": "stdout",
     "output_type": "stream",
     "text": [
      "Accuracy using transformed dataset: 0.053987730061349694\n"
     ]
    }
   ],
   "source": [
    "from sklearn.decomposition import PCA\n",
    "from sklearn.model_selection import train_test_split\n",
    "from sklearn.linear_model import LogisticRegression\n",
    "from sklearn.metrics import accuracy_score\n",
    "from sklearn.preprocessing import StandardScaler\n",
    "\n",
    "# PCA with K components\n",
    "K = 10  # Update with the desired number of components\n",
    "pca = PCA(n_components=K)\n",
    "X_pca = pca.fit_transform(x)\n",
    "\n",
    "# Splitting into training and testing sets\n",
    "X_train, X_test, y_train, y_test = train_test_split(x_pca, y, test_size=0.2, random_state=42)\n",
    "\n",
    "# Model (Logistic Regression as an example)\n",
    "model = LogisticRegression()\n",
    "model.fit(X_train, y_train)\n",
    "\n",
    "# Predicting\n",
    "y_pred = model.predict(X_test)\n",
    "\n",
    "# Calculating accuracy using the transformed dataset\n",
    "accuracy = accuracy_score(y_test, y_pred)\n",
    "print(\"Accuracy using transformed dataset:\", accuracy)"
   ]
  },
  {
   "cell_type": "code",
   "execution_count": null,
   "metadata": {},
   "outputs": [],
   "source": []
  }
 ],
 "metadata": {
  "colab": {
   "authorship_tag": "ABX9TyNo9EapyQ2kOlP8gIxrqQfW",
   "mount_file_id": "1xWI_8HDagLcherZrGxk7cy6-6weE1Mbe",
   "provenance": []
  },
  "kernelspec": {
   "display_name": "Python 3 (ipykernel)",
   "language": "python",
   "name": "python3"
  },
  "language_info": {
   "codemirror_mode": {
    "name": "ipython",
    "version": 3
   },
   "file_extension": ".py",
   "mimetype": "text/x-python",
   "name": "python",
   "nbconvert_exporter": "python",
   "pygments_lexer": "ipython3",
   "version": "3.11.4"
  }
 },
 "nbformat": 4,
 "nbformat_minor": 1
}
