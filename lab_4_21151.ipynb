{
 "cells": [
  {
   "cell_type": "code",
   "execution_count": 5,
   "id": "d5dd51fc",
   "metadata": {},
   "outputs": [
    {
     "name": "stdout",
     "output_type": "stream",
     "text": [
      "Entropy  Age: 1.5774062828523454\n",
      "Entropy  Income: 1.5566567074628228\n",
      "Entropy  Student: 1.0\n",
      "Entropy Credit Rating: 0.9852281360342516\n",
      "Entropy  Buys Computer : 0.9402859586706311\n",
      "Info gain for Age: 1.1102230246251565e-16\n",
      "Info Gain for Income: 1.6653345369377348e-16\n",
      "Info Gain for Student: 0.0\n",
      "Info Gain for Credit Rating: 1.1102230246251565e-16\n",
      "The first feature for constructing the decision tree is Income.\n"
     ]
    }
   ],
   "source": [
    "import pandas as pd\n",
    "import numpy as np\n",
    "import math\n",
    "data= {\n",
    "    'age': ['<=30', '<=30', '31…40', '>40', '>40', '>40', '31…40', '<=30', '<=30', '>40', '<=30', '31…40', '31…40', '>40'],\n",
    "    'income': ['high', 'high', 'high', 'medium', 'low', 'low', 'low', 'medium', 'low', 'medium', 'medium', 'medium', 'high', 'medium'],\n",
    "    'student': ['no', 'no', 'no', 'no', 'yes', 'yes', 'yes', 'no', 'yes', 'yes', 'yes', 'no', 'yes', 'no'],\n",
    "    'credit_rating': ['fair', 'excellent', 'fair', 'fair', 'fair', 'excellent', 'excellent', 'fair', 'fair', 'fair', 'excellent', 'excellent', 'fair', 'excellent'],\n",
    "    'buys_computer': ['no', 'no', 'yes', 'yes', 'yes', 'no', 'yes', 'no', 'yes', 'yes', 'yes', 'yes', 'yes', 'no']\n",
    "        }\n",
    "dataread=pd.DataFrame(data)\n",
    "def entropy(attribute):\n",
    "    values = dataread[attribute].unique()\n",
    "    entropy = 0\n",
    "    for value in values:\n",
    "        p = len(dataread[dataread[attribute] == value]) / len(dataread)\n",
    "        entropy += -p * math.log2(p)\n",
    "    return entropy\n",
    "\n",
    "age_entropy = entropy('age')\n",
    "income_entropy = entropy('income')\n",
    "student_entropy = entropy('student')\n",
    "credit_rating_entropy = entropy('credit_rating')\n",
    "buys_computer_entropy = entropy('buys_computer')\n",
    "print('Entropy  Age:', age_entropy)\n",
    "print('Entropy  Income:', income_entropy)\n",
    "print('Entropy  Student:', student_entropy)\n",
    "print('Entropy Credit Rating:', credit_rating_entropy)\n",
    "print('Entropy  Buys Computer :', buys_computer_entropy)\n",
    "\n",
    "def info_gn(attribute):\n",
    "    values = dataread[attribute].unique()\n",
    "    info_gn = buys_computer_entropy\n",
    "    for value in values:\n",
    "        subset = dataread[dataread[attribute] == value]\n",
    "        p = len(subset) / len(dataread)\n",
    "        info_gn -= p * entropy('buys_computer')\n",
    "    return info_gn\n",
    "\n",
    "\n",
    "age_info_gn = info_gn('age')\n",
    "income_info_gn = info_gn('income')\n",
    "student_info_gn = info_gn('student')\n",
    "credit_rating_info_gn = info_gn('credit_rating')\n",
    "\n",
    "\n",
    "print('Info gain for Age:', age_info_gn)\n",
    "print('Info Gain for Income:', income_info_gn)\n",
    "print('Info Gain for Student:', student_info_gn)\n",
    "print('Info Gain for Credit Rating:', credit_rating_info_gn)\n",
    "\n",
    " \n",
    "\n",
    " \n",
    "\n",
    "root_node = max(age_info_gn, income_info_gn, student_info_gn, credit_rating_info_gn)\n",
    "if root_node == age_info_gn:\n",
    "    print('The first feature for constructing the decision tree is Age.')\n",
    "elif root_node == income_info_gn:\n",
    "    print('The first feature for constructing the decision tree is Income.')\n",
    "elif root_node == student_info_gn:\n",
    "    print('The first feature for constructing the decision tree is Student.')\n",
    "else:\n",
    "    print('The first feature for constructing the decision tree is Credit Rating.')"
   ]
  },
  {
   "cell_type": "code",
   "execution_count": 7,
   "id": "e02ce2e7",
   "metadata": {},
   "outputs": [
    {
     "name": "stdout",
     "output_type": "stream",
     "text": [
      "Training Set Accuracy: 1.0\n",
      "Tree Depth: 4\n"
     ]
    }
   ],
   "source": [
    "import pandas as pd\n",
    "from sklearn.tree import DecisionTreeClassifier\n",
    "data = {\n",
    "    'age': ['<=30', '<=30', '31…40', '>40', '>40', '>40', '31…40', '<=30', '<=30', '>40', '<=30', '31…40', '31…40', '>40'],\n",
    "    'income': ['high', 'high', 'high', 'medium', 'low', 'low', 'low', 'medium', 'low', 'medium', 'medium', 'medium', 'high', 'medium'],\n",
    "    'student': ['no', 'no', 'no', 'no', 'yes', 'yes', 'yes', 'no', 'yes', 'yes', 'yes', 'no', 'yes', 'no'],\n",
    "    'credit_rating': ['fair', 'excellent', 'fair', 'fair', 'fair', 'excellent', 'excellent', 'fair', 'fair', 'fair', 'excellent', 'excellent', 'fair', 'excellent'],\n",
    "    'buys_computer': ['no', 'no', 'yes', 'yes', 'yes', 'no', 'yes', 'no', 'yes', 'yes', 'yes', 'yes', 'yes', 'no']\n",
    "}\n",
    "df = pd.DataFrame(data)\n",
    "df_encoded = df.apply(lambda col: pd.factorize(col)[0])\n",
    "Tr_X = df_encoded.drop(columns=['buys_computer'])\n",
    "Tr_y = df_encoded['buys_computer']\n",
    "model = DecisionTreeClassifier()\n",
    "model.fit(Tr_X, Tr_y)\n",
    "training_accuracy = model.score(Tr_X, Tr_y)\n",
    "print(f\"Training Set Accuracy: {training_accuracy}\")\n",
    "tree_depth = model.get_depth()\n",
    "print(f\"Tree Depth: {tree_depth}\")"
   ]
  }
 ],
 "metadata": {
  "kernelspec": {
   "display_name": "Python 3 (ipykernel)",
   "language": "python",
   "name": "python3"
  },
  "language_info": {
   "codemirror_mode": {
    "name": "ipython",
    "version": 3
   },
   "file_extension": ".py",
   "mimetype": "text/x-python",
   "name": "python",
   "nbconvert_exporter": "python",
   "pygments_lexer": "ipython3",
   "version": "3.9.13"
  }
 },
 "nbformat": 4,
 "nbformat_minor": 5
}
